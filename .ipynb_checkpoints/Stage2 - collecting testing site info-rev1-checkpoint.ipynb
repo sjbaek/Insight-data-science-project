{
 "cells": [
  {
   "cell_type": "markdown",
   "metadata": {},
   "source": [
    "# Insight Data Science fellowship project - Stage 2\n",
    "\n",
    "* I worked as a consultant for a company that provides machine learning tools to farmers for crop harvest efficiency and farm management. Due to the proprietary nature of the company data and API, I have intentionally omitted the parts that involves data collection and the company's API script.\n",
    "* Therefore, some library imported in this Jupyter notebook are not publicly available for the review. "
   ]
  },
  {
   "cell_type": "code",
   "execution_count": 1,
   "metadata": {
    "collapsed": false
   },
   "outputs": [],
   "source": [
    "import os\n",
    "import json\n",
    "import datetime\n",
    "from multiprocessing.pool import ThreadPool\n",
    "import numpy\n",
    "import numpy as np\n",
    "\n",
    "p = ThreadPool(2)\n",
    "\n",
    "os.environ['SSURGO_DATABASE_URL'] = '... removed ...'\n",
    "\n",
    "import ssurgo\n",
    "import elevation\n",
    "import rapideye as r\n"
   ]
  },
  {
   "cell_type": "markdown",
   "metadata": {},
   "source": [
    "# Select Testing Location"
   ]
  },
  {
   "cell_type": "markdown",
   "metadata": {},
   "source": [
    "#### read geojson exported from geojson.io"
   ]
  },
  {
   "cell_type": "code",
   "execution_count": 2,
   "metadata": {
    "collapsed": true
   },
   "outputs": [],
   "source": [
    "nfile = 'test_sites/map_test1.geojson'"
   ]
  },
  {
   "cell_type": "code",
   "execution_count": 3,
   "metadata": {
    "collapsed": false
   },
   "outputs": [],
   "source": [
    "geo_json = []\n",
    "with open(nfile) as f:\n",
    "    fields = json.load(f)\n",
    "    string1 = fields['features'][0]['geometry']['coordinates'][0]\n",
    "    geo_json.append(\"{\\\"type\\\": \\\"Polygon\\\", \\\"coordinates\\\": [%s]}\" % string1)\n",
    "\n",
    "# for testing site site_num should be always 0\n",
    "site_num = 0"
   ]
  },
  {
   "cell_type": "markdown",
   "metadata": {
    "collapsed": true
   },
   "source": [
    "# Step 1: Load image data"
   ]
  },
  {
   "cell_type": "code",
   "execution_count": 4,
   "metadata": {
    "collapsed": false
   },
   "outputs": [],
   "source": [
    "geojson = geo_json[site_num]\n",
    "available_images_meta = r.http_meta(geometry=geojson, \n",
    "                    start_date=datetime.date(2009, 1, 1),\n",
    "                    end_date=datetime.date(2015, 12, 31))"
   ]
  },
  {
   "cell_type": "markdown",
   "metadata": {},
   "source": [
    "#### extract values and put it in DataFrame"
   ]
  },
  {
   "cell_type": "code",
   "execution_count": 6,
   "metadata": {
    "collapsed": false
   },
   "outputs": [
    {
     "name": "stderr",
     "output_type": "stream",
     "text": [
      "/Users/seungjinbaek/anaconda/lib/python2.7/site-packages/matplotlib/font_manager.py:273: UserWarning: Matplotlib is building the font cache using fc-list. This may take a moment.\n",
      "  warnings.warn('Matplotlib is building the font cache using fc-list. This may take a moment.')\n"
     ]
    }
   ],
   "source": [
    "import pandas as pd\n",
    "from scipy.interpolate import interp2d\n",
    "import sys\n",
    "sys.path.append('utm-0.4.1')\n",
    "import utm\n",
    "\n",
    "import matplotlib.pyplot as plt\n",
    "%matplotlib inline \n",
    "\n",
    "# Set some pandas options\n",
    "pd.set_option('display.notebook_repr_html', True)\n",
    "pd.set_option('display.max_columns', 10)\n",
    "pd.set_option('display.max_rows', 10)"
   ]
  },
  {
   "cell_type": "code",
   "execution_count": 7,
   "metadata": {
    "collapsed": false
   },
   "outputs": [],
   "source": [
    "def write_image_numeric(image_meta):\n",
    "    image = r.http_images(\n",
    "        geometry=geojson,\n",
    "        start_date=image_meta['date'],\n",
    "        end_date=image_meta['date'],\n",
    "        scId=image_meta['scId'], \n",
    "        indices=['get_bands'],\n",
    "        cloud_filter=False,\n",
    "        )[0]\n",
    "    #print image['date']\n",
    "    if not 'get_bands' in image:\n",
    "        return None, None, None, None\n",
    "    blue, green, red, red_edge, nir = image['get_bands']\n",
    "    \n",
    "    # remove NaN with median values of each bands\n",
    "    \n",
    "    blueC = blue.reshape(blue.size,1)\n",
    "    nan_ratio = float(len(blueC[np.isnan(blueC)]))/float(len(blueC))\n",
    "    #print len(blueC)\n",
    "    \n",
    "    blueC[np.isnan(blueC)] = np.nanmedian(blueC)\n",
    "    \n",
    "    \n",
    "\n",
    "    greenC = green.reshape(green.size,1)\n",
    "    greenC[np.isnan(greenC)] = np.nanmedian(greenC)\n",
    "    \n",
    "    redC = red.reshape(red.size,1)\n",
    "    redC[np.isnan(redC)] = np.nanmedian(redC)\n",
    "\n",
    "    red_edgeC = red_edge.reshape(red_edge.size, 1)\n",
    "    red_edgeC[np.isnan(red_edgeC)] = np.nanmedian(red_edgeC)\n",
    "\n",
    "    nirC = nir.reshape(nir.size,1)\n",
    "    nirC[np.isnan(nirC)] = np.nanmedian(nirC)\n",
    "    \n",
    "    wdrvi = (0.2 * nir - red) / (0.2 * nir + red)\n",
    "    wdrviC = wdrvi.reshape(wdrvi.size,1)\n",
    "        \n",
    "    imageNum = np.concatenate((blueC,greenC,redC,red_edgeC,nirC,wdrviC),axis=1)\n",
    "    rowN, colN = wdrvi.shape\n",
    "    print 'image processing ... ', image['date']\n",
    "    return imageNum, rowN, colN, nan_ratio"
   ]
  },
  {
   "cell_type": "markdown",
   "metadata": {},
   "source": [
    "#### code block below creates DataFrame from ALL images. "
   ]
  },
  {
   "cell_type": "code",
   "execution_count": 13,
   "metadata": {
    "collapsed": false,
    "scrolled": false
   },
   "outputs": [
    {
     "name": "stdout",
     "output_type": "stream",
     "text": [
      "image processing ...  2015-09-06\n",
      "image processing ...  2015-09-02\n",
      "image processing ...  2015-08-15\n",
      "image processing ...  2015-08-10\n",
      "image processing ...  2015-08-03\n",
      "image processing ...  2015-06-27\n",
      "image processing ...  2015-06-10\n",
      "image processing ...  2014-09-06\n",
      "image processing ...  2014-08-31\n",
      "image processing ...  2014-08-25\n",
      "image processing ...  2014-08-03\n",
      "image processing ...  2014-07-09\n",
      "image processing ...  2014-06-12\n",
      "image processing ...  2014-05-23\n",
      "image processing ...  2013-08-27\n",
      "image processing ...  2013-08-25\n",
      "image processing ...  2013-07-18\n",
      "image processing ...  2013-07-06\n",
      "image processing ...  2013-06-18\n",
      "image processing ...  2012-09-22\n",
      "image processing ...  2012-08-30\n",
      "image processing ...  2012-08-29\n",
      "image processing ...  2012-08-03\n",
      "image processing ...  2012-07-02\n",
      "image processing ...  2012-06-24\n",
      "image processing ...  2012-06-19\n",
      "image processing ...  2012-05-17\n",
      "image processing ...  2011-08-31\n",
      "image processing ...  2011-08-19\n",
      "image processing ...  2011-07-19\n",
      "image processing ...  2011-07-10\n",
      "image processing ...  2011-07-01\n",
      "image processing ...  2011-06-01\n",
      "image processing ...  2011-05-02\n",
      "image processing ...  2010-09-08\n",
      "image processing ...  2010-08-27\n",
      "image processing ...  2010-08-23\n",
      "image processing ...  2010-08-14\n",
      "image processing ...  2010-08-12\n",
      "image processing ...  2010-08-10\n",
      "image processing ...  2010-07-28\n",
      "image processing ...  2010-07-27\n",
      "image processing ...  2010-06-22\n",
      "image processing ...  2009-09-15\n",
      "image processing ...  2009-09-09\n",
      "image processing ...  2009-08-29\n",
      "image processing ...  2009-08-28\n",
      "image processing ...  2009-06-22\n",
      "total image number =  48\n"
     ]
    }
   ],
   "source": [
    "total_image = 0\n",
    "Df = pd.DataFrame()\n",
    "col_names = ['blue','green','red','red_edge','nir','wdrvi']\n",
    "date_list = []\n",
    "for num in range(len(available_images_meta)):\n",
    "    image_numeric, rowN , colN, nan_ratio = write_image_numeric(available_images_meta[num])\n",
    "    if nan_ratio > 0.1:\n",
    "        print available_images_meta[num]['date'], ' skipped.'\n",
    "        continue\n",
    "    if image_numeric is not None:  # if not empty\n",
    "\n",
    "        Df = pd.concat([Df, pd.DataFrame(image_numeric, columns = col_names)] ,axis=1)\n",
    "        date_list.append(available_images_meta[num]['date'])\n",
    "        total_image += 1\n",
    "        # print total_image, np.nanmean(image_numeric[:,5]), np.nanmedian(image_numeric[:,5]), np.nanstd(image_numeric[:,5])\n",
    "        # print total_image, np.nanmean(image_numeric[:,5]), np.nanmedian(image_numeric[:,5]), np.nanstd(image_numeric[:,5]), np.nanstd(image_numeric[:,4])\n",
    "        # print pd.DataFrame(image_numeric).tail()\n",
    "\n",
    "print 'total image number = ',total_image"
   ]
  },
  {
   "cell_type": "markdown",
   "metadata": {},
   "source": [
    "### Standard deviation of `wdrvi`, `red edge` and `near infrared` for all image\n",
    "\n",
    "This process was introduced as a mean to remove images with excessive clouds.  \n",
    "Due to the contrast in brightness of clouds and its shadow, standard deviation of 'red edge' and 'near infrared' bands were adequate to be used as a metric to select those kind of images"
   ]
  },
  {
   "cell_type": "code",
   "execution_count": 14,
   "metadata": {
    "collapsed": false,
    "scrolled": false
   },
   "outputs": [],
   "source": [
    "wdrvi_std = Df.iloc[:, lambda df: range(0,len(Df.columns))[5::6]].std()\n",
    "nir_std = Df.iloc[:, lambda df: range(0,len(Df.columns))[4::6]].std()\n",
    "\n",
    "red_e_std = Df.iloc[:, lambda df: range(0,len(Df.columns))[3::6]].std()\n",
    "\n",
    "wdrvi_std.index = date_list\n",
    "nir_std.index = date_list\n",
    "red_e_std.index = date_list"
   ]
  },
  {
   "cell_type": "markdown",
   "metadata": {},
   "source": [
    "#### plotting standard deviations of `wdrvi`, `red edge` and `near infrared`"
   ]
  },
  {
   "cell_type": "code",
   "execution_count": 15,
   "metadata": {
    "collapsed": false
   },
   "outputs": [
    {
     "data": {
      "image/png": "[encoded data removed]",
      "text/plain": [
       "<matplotlib.figure.Figure at 0x1153bc310>"
      ]
     },
     "metadata": {},
     "output_type": "display_data"
    }
   ],
   "source": [
    "wdrvi_std.plot(style='.-');\n",
    "red_e_std.plot(style='.-');\n",
    "ax1 = nir_std.plot(style='.-',grid=True);\n",
    "# lines, labels = ax1.get_legend_handles_labels()\n",
    "labels = ['wdrvi','red edge','nir']\n",
    "ax1.legend(labels);"
   ]
  },
  {
   "cell_type": "code",
   "execution_count": 16,
   "metadata": {
    "collapsed": false
   },
   "outputs": [
    {
     "data": {
      "text/plain": [
       "2015-08-15    0.012882\n",
       "2014-08-25    0.039465\n",
       "2013-07-18    0.053264\n",
       "2010-07-28    0.061584\n",
       "2009-09-09    0.123209\n",
       "dtype: float32"
      ]
     },
     "execution_count": 16,
     "metadata": {},
     "output_type": "execute_result"
    }
   ],
   "source": [
    "from sklearn.cluster import KMeans\n",
    "\n",
    "# use two cluster to separate out the outliers\n",
    "clusterer = KMeans(init = 'k-means++', n_clusters=2, n_init=10, max_iter = 500, random_state= 200)\n",
    "\n",
    "#clusterer.fit(pd.DataFrame(red_e_std))\n",
    "clusterer.fit(pd.DataFrame(nir_std+red_e_std))  # this gives better results in this test case\n",
    "#clusterer.fit(pd.DataFrame(nir_std+red_e_std+wdrvi_std))\n",
    "cluster_labels_ = clusterer.labels_\n",
    "\n",
    "\n",
    "idx_1 = list(np.where(cluster_labels_==0))[0]\n",
    "idx_2 = list(np.where(cluster_labels_==1))[0]\n",
    "if len(idx_1) < len(idx_2):\n",
    "    idx_ = idx_2\n",
    "    bad_cluster = 1\n",
    "else:\n",
    "    idx_ = idx_1\n",
    "    bad_cluster = 0\n",
    "    \n",
    "    \n",
    "    \n",
    "red_e_std[cluster_labels_!=bad_cluster]\n",
    "\n",
    "#idx_ = red_e_std[cluster_labels==0].index\n",
    "#red_e_std.index[cluster_labels!=0]\n",
    "#idx_ = list(set(idx_wdrvi) & set(idx_nir))"
   ]
  },
  {
   "cell_type": "code",
   "execution_count": 17,
   "metadata": {
    "collapsed": false
   },
   "outputs": [
    {
     "data": {
      "text/plain": [
       "Index([2015-08-15, 2014-08-25, 2013-07-18, 2010-07-28, 2009-09-09], dtype='object')"
      ]
     },
     "execution_count": 17,
     "metadata": {},
     "output_type": "execute_result"
    }
   ],
   "source": [
    "red_e_std[cluster_labels_!=bad_cluster].index"
   ]
  },
  {
   "cell_type": "markdown",
   "metadata": {},
   "source": [
    "#### Consolidate DataFrame and make ONE representative image from the selected region\n",
    "* `idx_` is the index of good figures"
   ]
  },
  {
   "cell_type": "code",
   "execution_count": 18,
   "metadata": {
    "collapsed": true
   },
   "outputs": [],
   "source": [
    "from sklearn.preprocessing import MinMaxScaler\n",
    "scaler = MinMaxScaler()"
   ]
  },
  {
   "cell_type": "code",
   "execution_count": 19,
   "metadata": {
    "collapsed": false
   },
   "outputs": [
    {
     "name": "stdout",
     "output_type": "stream",
     "text": [
      "blue\n",
      "green\n",
      "red\n",
      "red_edge\n",
      "nir\n",
      "wdrvi\n"
     ]
    }
   ],
   "source": [
    "col_names = ['blue','green','red','red_edge','nir','wdrvi']\n",
    "Df_final = pd.DataFrame(columns=range(len(col_names)),index=range(len(Df)))\n",
    "\n",
    "\n",
    "for j in range(len(col_names)):\n",
    "    sel = [x * 6 +j for x in idx_]\n",
    "    print col_names[j]\n",
    "    \n",
    "    Df_sel = Df[sel].copy()\n",
    "    \n",
    "    # empty DataFrame\n",
    "    df_w = pd.DataFrame()\n",
    "\n",
    "    for i in range(len(Df_sel.columns)):\n",
    "        \n",
    "        # Use scaler - index starts from zero - need to fix this\n",
    "        df_scale = pd.DataFrame(scaler.fit_transform(Df_sel[[i]].dropna()))\n",
    "\n",
    "        # re-indexing \n",
    "        df_scale.index = Df_sel[[i]].dropna().index\n",
    "\n",
    "        df_w = pd.concat([df_w, df_scale],axis=1)\n",
    "    \n",
    "    # calculate mean by row\n",
    "    # print df_w.mean(axis=1)\n",
    "    Df_final[j].update(df_w.mean(axis=1))\n",
    "    #del df_w\n",
    "Df_final.columns = col_names"
   ]
  },
  {
   "cell_type": "markdown",
   "metadata": {},
   "source": [
    "#### Export WDRVI to png file"
   ]
  },
  {
   "cell_type": "code",
   "execution_count": 23,
   "metadata": {
    "collapsed": false
   },
   "outputs": [],
   "source": [
    "wdrvi_1D = np.array(Df_final.iloc[:,5])"
   ]
  },
  {
   "cell_type": "code",
   "execution_count": 26,
   "metadata": {
    "collapsed": false
   },
   "outputs": [
    {
     "data": {
      "text/plain": [
       "(79, 74)"
      ]
     },
     "execution_count": 26,
     "metadata": {},
     "output_type": "execute_result"
    }
   ],
   "source": [
    "wdrvi_2D = np.array(Df_final.iloc[:,5].fillna(0)).reshape(rowN,colN)"
   ]
  },
  {
   "cell_type": "code",
   "execution_count": 27,
   "metadata": {
    "collapsed": false
   },
   "outputs": [],
   "source": [
    "with open(os.path.expanduser('TestingSets/Avg_wdrvi_Test.png'),'w') as f:\n",
    "    f.write(r.to_png(r.colorscale(wdrvi_2D)))"
   ]
  },
  {
   "cell_type": "markdown",
   "metadata": {
    "collapsed": true
   },
   "source": [
    "# Step 2: Load SSURGO data"
   ]
  },
  {
   "cell_type": "code",
   "execution_count": 29,
   "metadata": {
    "collapsed": true
   },
   "outputs": [],
   "source": [
    "from matplotlib import path"
   ]
  },
  {
   "cell_type": "code",
   "execution_count": 31,
   "metadata": {
    "collapsed": false
   },
   "outputs": [],
   "source": [
    "soils = ssurgo.soil(geojson, new_depths=[100])\n",
    "\n",
    "# create json and then read from it\n",
    "with open(os.path.expanduser('TestingSets/') + 'soil_test.json', 'w') as f:\n",
    "    f.write(json.dumps(ssurgo.to_feature_collection(soils)))\n",
    "\n",
    "# read json\n",
    "with open('TestingSets/soil_test.json') as f:\n",
    "    fields = json.load(f)"
   ]
  },
  {
   "cell_type": "markdown",
   "metadata": {},
   "source": [
    "#### Read organic matter fields from all polygons"
   ]
  },
  {
   "cell_type": "code",
   "execution_count": 32,
   "metadata": {
    "collapsed": false
   },
   "outputs": [
    {
     "name": "stdout",
     "output_type": "stream",
     "text": [
      "0 MultiPolygon L138B 1.5125 0.945 2.92\n",
      "1 Polygon L55 2.435 1.25 3.73\n",
      "2 MultiPolygon L138C2 0.7425 0.305 1.415\n",
      "3 MultiPolygon L329 3.8925 1.755 5.465\n",
      "4 Polygon 507 4.0575 2.94100000001 4.925\n",
      "5 Polygon 638C2 1.21850000858 0.877000008747 1.57100000858\n"
     ]
    }
   ],
   "source": [
    "# read om_r: organic matter representative\n",
    "for i in range(len(fields[\"features\"])):\n",
    "    print i, fields[\"features\"][i]['geometry']['type'],fields[\"features\"][i]['properties']['musym'], \\\n",
    "    fields[\"features\"][i][\"properties\"][\"max_component_interpolated_horizons\"][0]['om_r'], \\\n",
    "    fields[\"features\"][i][\"properties\"][\"max_component_interpolated_horizons\"][0]['om_l'], \\\n",
    "    fields[\"features\"][i][\"properties\"][\"max_component_interpolated_horizons\"][0]['om_h']"
   ]
  },
  {
   "cell_type": "markdown",
   "metadata": {},
   "source": [
    "#### coordinates of polygon vertices: \n",
    "* last coordinates are always same as the first coordinates (closing loop)"
   ]
  },
  {
   "cell_type": "code",
   "execution_count": 33,
   "metadata": {
    "collapsed": false
   },
   "outputs": [],
   "source": [
    "gg = eval(geojson)\n",
    "ggg = np.array(gg['coordinates'][0])"
   ]
  },
  {
   "cell_type": "markdown",
   "metadata": {},
   "source": [
    "#### bounding box"
   ]
  },
  {
   "cell_type": "code",
   "execution_count": 35,
   "metadata": {
    "collapsed": false
   },
   "outputs": [
    {
     "name": "stdout",
     "output_type": "stream",
     "text": [
      "-93.2707178593 -93.26628685 42.2778088814 42.2813253955\n"
     ]
    }
   ],
   "source": [
    "lon_min = np.min(ggg[:,0])\n",
    "lon_max = np.max(ggg[:,0])\n",
    "lat_min = np.min(ggg[:,1])\n",
    "lat_max = np.max(ggg[:,1])\n",
    "print lon_min, lon_max, lat_min, lat_max"
   ]
  },
  {
   "cell_type": "markdown",
   "metadata": {},
   "source": [
    "#### (i,j) index for coordinates"
   ]
  },
  {
   "cell_type": "code",
   "execution_count": 36,
   "metadata": {
    "collapsed": true
   },
   "outputs": [],
   "source": [
    "LONx = np.linspace(lon_min, lon_max, colN+1)\n",
    "LATy = np.linspace(lat_min, lat_max, rowN+1)"
   ]
  },
  {
   "cell_type": "code",
   "execution_count": 37,
   "metadata": {
    "collapsed": false
   },
   "outputs": [
    {
     "name": "stdout",
     "output_type": "stream",
     "text": [
      "5.98785039541e-05 4.45128378624e-05\n"
     ]
    }
   ],
   "source": [
    "dlon_x = np.diff(LONx).mean()\n",
    "dlat_y = np.diff(LATy).mean()\n",
    "print dlon_x, dlat_y"
   ]
  },
  {
   "cell_type": "code",
   "execution_count": 39,
   "metadata": {
    "collapsed": true
   },
   "outputs": [],
   "source": [
    "def ind_to_latlon(bounding,colNum,rowNum,i,j):\n",
    "    \n",
    "    lon_min = np.min(bounding[:,0])\n",
    "    lon_max = np.max(bounding[:,0])\n",
    "    lat_min = np.min(bounding[:,1])\n",
    "    lat_max = np.max(bounding[:,1])\n",
    "\n",
    "    # NUMBER OF CELL BETWEEN TWO POINTS = (1 + total_cell_number)\n",
    "    # linspace uses 'number of points' between two, not space (cell width) between start and end\n",
    "    LONx = np.linspace(lon_min, lon_max, colNum+1)\n",
    "    LATy = np.linspace(lat_min, lat_max, rowNum+1)\n",
    "    \n",
    "    dx = np.diff(LONx)[0]\n",
    "    dy = np.diff(LATy)[0]\n",
    "    #print j,dx,dy,lat_max, lat_min\n",
    "    \n",
    "    # python start with zero index\n",
    "    return (i+1)*dx - dx/2.0 + lon_min, (rowNum-(j+1)+1)*dy - dy/2.0 + lat_min"
   ]
  },
  {
   "cell_type": "code",
   "execution_count": 40,
   "metadata": {
    "collapsed": true
   },
   "outputs": [],
   "source": [
    "def ind_to_latlon_mat(bounding,colNum,rowNum,end_ij):\n",
    "    \n",
    "    # end_ij [end i, end j]\n",
    "    # always starts from (0,0)\n",
    "\n",
    "    \n",
    "    lon_min = np.min(bounding[:,0])\n",
    "    lon_max = np.max(bounding[:,0])\n",
    "    lat_min = np.min(bounding[:,1])\n",
    "    lat_max = np.max(bounding[:,1])\n",
    "\n",
    "    # NUMBER OF CELL BETWEEN TWO POINTS = (1 + total_cell_number)\n",
    "    # linspace uses 'number of points' between two, not space (cell width) between start and end\n",
    "    LONx = np.linspace(lon_min, lon_max, colNum+1)\n",
    "    LATy = np.linspace(lat_min, lat_max, rowNum+1)\n",
    "    \n",
    "    dx = np.diff(LONx)[0]\n",
    "    dy = np.diff(LATy)[0]\n",
    "    #print j,dx,dy,lat_max, lat_min\n",
    "    \n",
    "    pos = 0\n",
    "    xpos = []\n",
    "    ypos = []\n",
    "        \n",
    "    for jdx in range(end_ij[0]):\n",
    "        for idx in range(end_ij[1]):\n",
    "            # print idx, jdx\n",
    "            #xpos.append((ivar[idx]+1)*dx - dx/2.0 + lon_min)\n",
    "            #ypos.append((rowNum-(jvar[jdx]+1)+1)*dy - dy/2.0 + lat_min)\n",
    "            xpos.append((idx+1)*dx - dx/2.0 + lon_min)\n",
    "            ypos.append((rowNum-(jdx+1)+1)*dy - dy/2.0 + lat_min)\n",
    "            \n",
    "            pos += 1\n",
    "            #print (jdx,idx)\n",
    "    \n",
    "    \n",
    "    # python start with zero index\n",
    "    #return (i+1)*dx - dx/2.0 + lon_min, (rowNum-(j+1)+1)*dy - dy/2.0 + lat_min\n",
    "    return xpos, ypos"
   ]
  },
  {
   "cell_type": "markdown",
   "metadata": {},
   "source": [
    "#### functions tested"
   ]
  },
  {
   "cell_type": "code",
   "execution_count": 41,
   "metadata": {
    "collapsed": false
   },
   "outputs": [
    {
     "name": "stdout",
     "output_type": "stream",
     "text": [
      "-93.27068792 42.2813031391\n"
     ]
    }
   ],
   "source": [
    "xx,yy=ind_to_latlon(ggg,colN,rowN,0,0)\n",
    "print xx,yy"
   ]
  },
  {
   "cell_type": "code",
   "execution_count": 42,
   "metadata": {
    "collapsed": false
   },
   "outputs": [
    {
     "name": "stdout",
     "output_type": "stream",
     "text": [
      "12 12\n"
     ]
    }
   ],
   "source": [
    "xx,yy = ind_to_latlon_mat(ggg,colN,rowN,[4,3])\n",
    "print len(xx),len(yy)"
   ]
  },
  {
   "cell_type": "markdown",
   "metadata": {},
   "source": [
    "#### array check"
   ]
  },
  {
   "cell_type": "code",
   "execution_count": 44,
   "metadata": {
    "collapsed": false
   },
   "outputs": [],
   "source": [
    "# --------------- polygon definition\n",
    "polygon_np = ggg[0:-1]\n",
    "p = path.Path(polygon_np)\n",
    "# ----------------------------------\n",
    "\n",
    "xx,yy = ind_to_latlon_mat(ggg,colN,rowN,[rowN,colN])\n",
    "xx = np.array(xx)\n",
    "yy = np.array(yy)\n",
    "flags = p.contains_points(np.column_stack((xx,yy)))"
   ]
  },
  {
   "cell_type": "markdown",
   "metadata": {},
   "source": [
    "#### plotting polygons"
   ]
  },
  {
   "cell_type": "code",
   "execution_count": 46,
   "metadata": {
    "collapsed": false
   },
   "outputs": [
    {
     "data": {
      "image/png": "[encoded data removed]",
      "text/plain": [
       "<matplotlib.figure.Figure at 0x116f31a90>"
      ]
     },
     "metadata": {},
     "output_type": "display_data"
    }
   ],
   "source": [
    "poly_num = np.empty(len(xx)) * np.nan   # polygon number (categorical)\n",
    "poly_som = np.empty(len(xx)) * np.nan   # polygon soil organic matter (numerical)\n",
    "\n",
    "for f in range(len(fields[\"features\"])):\n",
    "    \n",
    "    # soil Organic matter value from SSURGO\n",
    "    om_r = fields[\"features\"][f][\"properties\"][\"max_component_interpolated_horizons\"][0]['om_r']\n",
    "    \n",
    "    # there are multiple features. Each feature has its own coordinates info.\n",
    "    poly = fields[\"features\"][f]['geometry']['coordinates']\n",
    "    ptype = fields[\"features\"][f]['geometry']['type']\n",
    "    polyNp = np.array(poly)\n",
    "    \n",
    "    for n in range(len(polyNp)):\n",
    "        if ptype == 'Polygon':\n",
    "            pplot = np.array(polyNp[n])   # this is polygon\n",
    "            \n",
    "            plt.plot(pplot[:,0],pplot[:,1])\n",
    "            #### polygon check\n",
    "            p = path.Path(pplot)\n",
    "            \n",
    "            flags = p.contains_points(np.column_stack((xx,yy)))\n",
    "            len(flags)\n",
    "            \n",
    "            poly_num[flags] = f\n",
    "            poly_som[flags] = om_r\n",
    "        else:  \n",
    "            # when there are multiple list in one item (Multipolygon)\n",
    "            for nn in range(len(polyNp[n])):\n",
    "                pplot = np.array(polyNp[n][nn])\n",
    "                plt.plot(pplot[:,0],pplot[:,1])\n",
    "                #### polygon check\n",
    "                p = path.Path(pplot)\n",
    "               \n",
    "                if nn > 0:\n",
    "                    poly_num[flags] = f\n",
    "                    poly_som[flags] = om_r\n",
    "                    flag_new = p.contains_points(np.column_stack((xx,yy))) # different for each polygon\n",
    "                    flag[(flag == True) & (flag_new==True)] = False\n",
    "                else: # first loop\n",
    "                    flag = p.contains_points(np.column_stack((xx,yy))) # different for each polygon\n",
    "                        \n",
    "            flags = flag       \n",
    "            poly_num[flags] = f\n",
    "            poly_som[flags] = om_r\n",
    "plt.axis('equal');"
   ]
  },
  {
   "cell_type": "code",
   "execution_count": 48,
   "metadata": {
    "collapsed": false
   },
   "outputs": [],
   "source": [
    "with open(os.path.expanduser('TestingSets/polygon_om_r.png'),'w') as f:\n",
    "    f.write(r.to_png(r.colorscale(poly_num.reshape(rowN,colN))))"
   ]
  },
  {
   "cell_type": "code",
   "execution_count": 49,
   "metadata": {
    "collapsed": false
   },
   "outputs": [
    {
     "data": {
      "image/png": "[encoded data removed]",
      "text/plain": [
       "<matplotlib.figure.Figure at 0x116ee7a10>"
      ]
     },
     "metadata": {},
     "output_type": "display_data"
    }
   ],
   "source": [
    "fig, ax = plt.subplots(nrows=1, ncols=1)\n",
    "X2, Y2 = np.meshgrid(LONx, LATy)\n",
    "polygon_Fig = ax.pcolormesh(X2, Y2, np.flipud(poly_som.reshape(rowN,colN)),cmap='copper')\n",
    "\n",
    "\n",
    "#X2, Y2 = np.meshgrid(x2, y2)\n",
    "ax.set_aspect('equal')\n",
    "ax.autoscale(tight=True)\n",
    "cvalue=plt.colorbar(polygon_Fig)\n",
    "plt.show()"
   ]
  },
  {
   "cell_type": "code",
   "execution_count": 50,
   "metadata": {
    "collapsed": false
   },
   "outputs": [
    {
     "data": {
      "image/png": "[encoded data removed]",
      "text/plain": [
       "<matplotlib.figure.Figure at 0x116f27690>"
      ]
     },
     "metadata": {},
     "output_type": "display_data"
    }
   ],
   "source": [
    "x2 = np.linspace(0, colN, colN+1)\n",
    "y2 = np.linspace(0, rowN, rowN+1)\n",
    "\n",
    "#f = interp2d(x, y, Z, kind='cubic')\n",
    "#Z2 = f(x2, y2)\n",
    "X2, Y2 = np.meshgrid(x2, y2)\n",
    "\n",
    "fig, ax = plt.subplots(nrows=1, ncols=1)\n",
    "\n",
    "slopefig = ax.pcolormesh(X2, Y2, np.flipud(poly_som.reshape(rowN,colN)),cmap='copper',vmin=cvalue.vmin,vmax=cvalue.vmax)\n",
    "#slopefig = ax.pcolormesh(X2, Y2, np.flipud(poly_som.reshape(rowN,colN)),cmap='copper',vmin=0.8,vmax=7.2)\n",
    "\n",
    "#X2, Y2 = np.meshgrid(x2, y2)\n",
    "ax.set_aspect('equal')\n",
    "ax.autoscale(tight=True)\n",
    "#plt.colorbar(slopefig)\n",
    "plt.show()"
   ]
  },
  {
   "cell_type": "markdown",
   "metadata": {
    "collapsed": true
   },
   "source": [
    "# Step 3: Load DEM"
   ]
  },
  {
   "cell_type": "code",
   "execution_count": 51,
   "metadata": {
    "collapsed": true
   },
   "outputs": [],
   "source": [
    "from scipy.interpolate import interp2d\n",
    "\n",
    "dem = elevation.get_elevation(geojson)\n",
    "Dem = np.array(dem['array'])\n",
    "\n",
    "jmax_dem, imax_dem = Dem.shape"
   ]
  },
  {
   "cell_type": "code",
   "execution_count": 52,
   "metadata": {
    "collapsed": true
   },
   "outputs": [],
   "source": [
    "DEM = pd.DataFrame(Dem)"
   ]
  },
  {
   "cell_type": "markdown",
   "metadata": {},
   "source": [
    "#### removing NaN's : This only works for rectangular image - need more robust method"
   ]
  },
  {
   "cell_type": "code",
   "execution_count": 53,
   "metadata": {
    "collapsed": false
   },
   "outputs": [],
   "source": [
    "Dem2D = np.array(DEM.bfill().bfill(axis=1))"
   ]
  },
  {
   "cell_type": "markdown",
   "metadata": {},
   "source": [
    "#### Lat/Long -> UTM"
   ]
  },
  {
   "cell_type": "code",
   "execution_count": 54,
   "metadata": {
    "collapsed": true
   },
   "outputs": [],
   "source": [
    "import sys\n",
    "sys.path.append('utm-0.4.1')\n",
    "import utm"
   ]
  },
  {
   "cell_type": "code",
   "execution_count": 55,
   "metadata": {
    "collapsed": true
   },
   "outputs": [],
   "source": [
    "# easting, northing, zone_number, zone_letter = utm.from_latlon(,)\n",
    "\n",
    "Xmin,Ymin,_,_ = utm.from_latlon(lat_min,lon_min)\n",
    "Xmax,Ymax,_,_ = utm.from_latlon(lat_max,lon_max)"
   ]
  },
  {
   "cell_type": "markdown",
   "metadata": {},
   "source": [
    "#### Slope"
   ]
  },
  {
   "cell_type": "code",
   "execution_count": 56,
   "metadata": {
    "collapsed": false
   },
   "outputs": [
    {
     "name": "stdout",
     "output_type": "stream",
     "text": [
      "366.586384774 389.302196511\n"
     ]
    }
   ],
   "source": [
    "distX = Xmax-Xmin\n",
    "distY = Ymax-Ymin\n",
    "print distX, distY"
   ]
  },
  {
   "cell_type": "markdown",
   "metadata": {},
   "source": [
    "#### DEM visualization"
   ]
  },
  {
   "cell_type": "code",
   "execution_count": 57,
   "metadata": {
    "collapsed": false
   },
   "outputs": [
    {
     "data": {
      "image/png": "[encoded data removed]",
      "text/plain": [
       "<matplotlib.figure.Figure at 0x1170cbad0>"
      ]
     },
     "metadata": {},
     "output_type": "display_data"
    }
   ],
   "source": [
    "# x and y are in 'meters'\n",
    "\n",
    "x = np.linspace(0, distX, imax_dem)\n",
    "y = np.linspace(0, distY, jmax_dem)\n",
    "X, Y = np.meshgrid(x, y)\n",
    "\n",
    "# Dem2 = NaN removed\n",
    "Z = Dem2D\n",
    "\n",
    "x2 = np.linspace(0, distX, colN)\n",
    "y2 = np.linspace(0, distY, rowN)\n",
    "\n",
    "f = interp2d(x, y, Z, kind='cubic')\n",
    "Z2 = f(x2, y2)\n",
    "X2, Y2 = np.meshgrid(x2, y2)\n",
    "\n",
    "# X, Y, Z are numpy arrays (2d matrix)\n",
    "\n",
    "fig, ax = plt.subplots(nrows=1, ncols=2)\n",
    "ax[0].pcolormesh(X, Y, np.flipud(Z))\n",
    "ax[0].set_aspect('equal')\n",
    "ax[0].autoscale(tight=True)\n",
    "ax[1].pcolormesh(X2, Y2, np.flipud(Z2))\n",
    "\n",
    "ax[1].set_aspect('equal')\n",
    "ax[1].autoscale(tight=True)\n",
    "plt.show()"
   ]
  },
  {
   "cell_type": "markdown",
   "metadata": {},
   "source": [
    "#### gradient in x and y direction"
   ]
  },
  {
   "cell_type": "code",
   "execution_count": 58,
   "metadata": {
    "collapsed": false
   },
   "outputs": [
    {
     "data": {
      "image/png": "[encoded data removed]",
      "text/plain": [
       "<matplotlib.figure.Figure at 0x116ee77d0>"
      ]
     },
     "metadata": {},
     "output_type": "display_data"
    }
   ],
   "source": [
    "dx,dy = np.gradient(Z2,np.diff(x2)[0],np.diff(y2)[0])\n",
    "\n",
    "fig, ax = plt.subplots(nrows=1, ncols=2)\n",
    "#ax[0].pcolormesh(X2, Y2, np.flipud(dx))\n",
    "ax[0].pcolormesh(X2, Y2, dx)\n",
    "ax[0].set_aspect('equal')\n",
    "ax[0].autoscale(tight=True)\n",
    "#X2, Y2 = np.meshgrid(x2, y2)\n",
    "ax[1].pcolormesh(X2, Y2, np.flipud(dy))\n",
    "\n",
    "ax[1].set_aspect('equal')\n",
    "ax[1].autoscale(tight=True)\n",
    "plt.show()"
   ]
  },
  {
   "cell_type": "markdown",
   "metadata": {},
   "source": [
    "#### dx/dz and dy/dz combined"
   ]
  },
  {
   "cell_type": "code",
   "execution_count": 59,
   "metadata": {
    "collapsed": false
   },
   "outputs": [
    {
     "data": {
      "image/png": "[encoded data removed]",
      "text/plain": [
       "<matplotlib.figure.Figure at 0x1177b0910>"
      ]
     },
     "metadata": {},
     "output_type": "display_data"
    }
   ],
   "source": [
    "fig, ax = plt.subplots(nrows=1, ncols=1)\n",
    "slope1 = np.sqrt(np.square(dx)+np.square(dy))\n",
    "slopefig = ax.pcolormesh(X2, Y2, np.flipud(slope1))\n",
    "\n",
    "#X2, Y2 = np.meshgrid(x2, y2)\n",
    "ax.set_aspect('equal')\n",
    "ax.autoscale(tight=True)\n",
    "plt.colorbar(slopefig)\n",
    "plt.show()"
   ]
  },
  {
   "cell_type": "markdown",
   "metadata": {},
   "source": [
    "#### Convert Slope (2D) matrix to a vector (26887 x 1) : Unit is in %"
   ]
  },
  {
   "cell_type": "code",
   "execution_count": 60,
   "metadata": {
    "collapsed": true
   },
   "outputs": [],
   "source": [
    "Slope = slope1.reshape(slope1.size,1)*100\n",
    "DemC = Z2.reshape(Z2.size,1)"
   ]
  },
  {
   "cell_type": "code",
   "execution_count": 61,
   "metadata": {
    "collapsed": false
   },
   "outputs": [
    {
     "data": {
      "text/html": [
       "<div>\n",
       "<table border=\"1\" class=\"dataframe\">\n",
       "  <thead>\n",
       "    <tr style=\"text-align: right;\">\n",
       "      <th></th>\n",
       "      <th>blue</th>\n",
       "      <th>green</th>\n",
       "      <th>red</th>\n",
       "      <th>red_edge</th>\n",
       "      <th>nir</th>\n",
       "      <th>...</th>\n",
       "      <th>green</th>\n",
       "      <th>red</th>\n",
       "      <th>red_edge</th>\n",
       "      <th>nir</th>\n",
       "      <th>wdrvi</th>\n",
       "    </tr>\n",
       "  </thead>\n",
       "  <tbody>\n",
       "    <tr>\n",
       "      <th>0</th>\n",
       "      <td>0.102579</td>\n",
       "      <td>0.095855</td>\n",
       "      <td>0.068953</td>\n",
       "      <td>0.095788</td>\n",
       "      <td>0.264060</td>\n",
       "      <td>...</td>\n",
       "      <td>0.080093</td>\n",
       "      <td>0.059862</td>\n",
       "      <td>0.088383</td>\n",
       "      <td>0.246436</td>\n",
       "      <td>-0.096883</td>\n",
       "    </tr>\n",
       "    <tr>\n",
       "      <th>1</th>\n",
       "      <td>0.124690</td>\n",
       "      <td>0.128407</td>\n",
       "      <td>0.120591</td>\n",
       "      <td>0.134918</td>\n",
       "      <td>0.242733</td>\n",
       "      <td>...</td>\n",
       "      <td>0.097646</td>\n",
       "      <td>0.090929</td>\n",
       "      <td>0.118271</td>\n",
       "      <td>0.214192</td>\n",
       "      <td>-0.359510</td>\n",
       "    </tr>\n",
       "    <tr>\n",
       "      <th>2</th>\n",
       "      <td>0.125993</td>\n",
       "      <td>0.125698</td>\n",
       "      <td>0.125849</td>\n",
       "      <td>0.132232</td>\n",
       "      <td>0.236910</td>\n",
       "      <td>...</td>\n",
       "      <td>0.097886</td>\n",
       "      <td>0.090995</td>\n",
       "      <td>0.107807</td>\n",
       "      <td>0.194105</td>\n",
       "      <td>-0.401909</td>\n",
       "    </tr>\n",
       "    <tr>\n",
       "      <th>3</th>\n",
       "      <td>0.126448</td>\n",
       "      <td>0.118819</td>\n",
       "      <td>0.127745</td>\n",
       "      <td>0.131751</td>\n",
       "      <td>0.222002</td>\n",
       "      <td>...</td>\n",
       "      <td>0.094671</td>\n",
       "      <td>0.086737</td>\n",
       "      <td>0.102105</td>\n",
       "      <td>0.192329</td>\n",
       "      <td>-0.385544</td>\n",
       "    </tr>\n",
       "    <tr>\n",
       "      <th>4</th>\n",
       "      <td>0.124888</td>\n",
       "      <td>0.116851</td>\n",
       "      <td>0.129514</td>\n",
       "      <td>0.132769</td>\n",
       "      <td>0.216671</td>\n",
       "      <td>...</td>\n",
       "      <td>0.091456</td>\n",
       "      <td>0.078794</td>\n",
       "      <td>0.099538</td>\n",
       "      <td>0.215478</td>\n",
       "      <td>-0.292872</td>\n",
       "    </tr>\n",
       "    <tr>\n",
       "      <th>...</th>\n",
       "      <td>...</td>\n",
       "      <td>...</td>\n",
       "      <td>...</td>\n",
       "      <td>...</td>\n",
       "      <td>...</td>\n",
       "      <td>...</td>\n",
       "      <td>...</td>\n",
       "      <td>...</td>\n",
       "      <td>...</td>\n",
       "      <td>...</td>\n",
       "      <td>...</td>\n",
       "    </tr>\n",
       "    <tr>\n",
       "      <th>5841</th>\n",
       "      <td>0.097703</td>\n",
       "      <td>0.086670</td>\n",
       "      <td>0.071961</td>\n",
       "      <td>0.088296</td>\n",
       "      <td>0.249292</td>\n",
       "      <td>...</td>\n",
       "      <td>0.080481</td>\n",
       "      <td>0.061914</td>\n",
       "      <td>0.085915</td>\n",
       "      <td>0.225706</td>\n",
       "      <td>-0.156675</td>\n",
       "    </tr>\n",
       "    <tr>\n",
       "      <th>5842</th>\n",
       "      <td>0.101454</td>\n",
       "      <td>0.090204</td>\n",
       "      <td>0.077193</td>\n",
       "      <td>0.086628</td>\n",
       "      <td>0.234630</td>\n",
       "      <td>...</td>\n",
       "      <td>0.080241</td>\n",
       "      <td>0.062510</td>\n",
       "      <td>0.085199</td>\n",
       "      <td>0.215019</td>\n",
       "      <td>-0.184866</td>\n",
       "    </tr>\n",
       "    <tr>\n",
       "      <th>5843</th>\n",
       "      <td>0.103152</td>\n",
       "      <td>0.097548</td>\n",
       "      <td>0.078659</td>\n",
       "      <td>0.095308</td>\n",
       "      <td>0.224212</td>\n",
       "      <td>...</td>\n",
       "      <td>0.077377</td>\n",
       "      <td>0.061826</td>\n",
       "      <td>0.085544</td>\n",
       "      <td>0.210946</td>\n",
       "      <td>-0.188784</td>\n",
       "    </tr>\n",
       "    <tr>\n",
       "      <th>5844</th>\n",
       "      <td>0.099381</td>\n",
       "      <td>0.096215</td>\n",
       "      <td>0.078558</td>\n",
       "      <td>0.102008</td>\n",
       "      <td>0.229053</td>\n",
       "      <td>...</td>\n",
       "      <td>0.078394</td>\n",
       "      <td>0.061164</td>\n",
       "      <td>0.086013</td>\n",
       "      <td>0.197657</td>\n",
       "      <td>-0.214830</td>\n",
       "    </tr>\n",
       "    <tr>\n",
       "      <th>5845</th>\n",
       "      <td>0.099776</td>\n",
       "      <td>0.091813</td>\n",
       "      <td>0.075373</td>\n",
       "      <td>0.099944</td>\n",
       "      <td>0.236770</td>\n",
       "      <td>...</td>\n",
       "      <td>0.082680</td>\n",
       "      <td>0.065025</td>\n",
       "      <td>0.086359</td>\n",
       "      <td>0.180295</td>\n",
       "      <td>-0.286554</td>\n",
       "    </tr>\n",
       "  </tbody>\n",
       "</table>\n",
       "<p>5846 rows × 288 columns</p>\n",
       "</div>"
      ],
      "text/plain": [
       "          blue     green       red  red_edge       nir    ...        green  \\\n",
       "0     0.102579  0.095855  0.068953  0.095788  0.264060    ...     0.080093   \n",
       "1     0.124690  0.128407  0.120591  0.134918  0.242733    ...     0.097646   \n",
       "2     0.125993  0.125698  0.125849  0.132232  0.236910    ...     0.097886   \n",
       "3     0.126448  0.118819  0.127745  0.131751  0.222002    ...     0.094671   \n",
       "4     0.124888  0.116851  0.129514  0.132769  0.216671    ...     0.091456   \n",
       "...        ...       ...       ...       ...       ...    ...          ...   \n",
       "5841  0.097703  0.086670  0.071961  0.088296  0.249292    ...     0.080481   \n",
       "5842  0.101454  0.090204  0.077193  0.086628  0.234630    ...     0.080241   \n",
       "5843  0.103152  0.097548  0.078659  0.095308  0.224212    ...     0.077377   \n",
       "5844  0.099381  0.096215  0.078558  0.102008  0.229053    ...     0.078394   \n",
       "5845  0.099776  0.091813  0.075373  0.099944  0.236770    ...     0.082680   \n",
       "\n",
       "           red  red_edge       nir     wdrvi  \n",
       "0     0.059862  0.088383  0.246436 -0.096883  \n",
       "1     0.090929  0.118271  0.214192 -0.359510  \n",
       "2     0.090995  0.107807  0.194105 -0.401909  \n",
       "3     0.086737  0.102105  0.192329 -0.385544  \n",
       "4     0.078794  0.099538  0.215478 -0.292872  \n",
       "...        ...       ...       ...       ...  \n",
       "5841  0.061914  0.085915  0.225706 -0.156675  \n",
       "5842  0.062510  0.085199  0.215019 -0.184866  \n",
       "5843  0.061826  0.085544  0.210946 -0.188784  \n",
       "5844  0.061164  0.086013  0.197657 -0.214830  \n",
       "5845  0.065025  0.086359  0.180295 -0.286554  \n",
       "\n",
       "[5846 rows x 288 columns]"
      ]
     },
     "execution_count": 61,
     "metadata": {},
     "output_type": "execute_result"
    }
   ],
   "source": [
    "Df"
   ]
  },
  {
   "cell_type": "markdown",
   "metadata": {},
   "source": [
    "#### Append Slope data to `Df_final`\n",
    "\n",
    "> ** Slope data has too much noise and decided to leave it out"
   ]
  },
  {
   "cell_type": "code",
   "execution_count": 62,
   "metadata": {
    "collapsed": false
   },
   "outputs": [],
   "source": [
    "Df = pd.concat([Df_final,pd.DataFrame(DemC,columns=['dem'])],axis=1)"
   ]
  },
  {
   "cell_type": "code",
   "execution_count": 63,
   "metadata": {
    "collapsed": false
   },
   "outputs": [
    {
     "data": {
      "text/html": [
       "<div>\n",
       "<table border=\"1\" class=\"dataframe\">\n",
       "  <thead>\n",
       "    <tr style=\"text-align: right;\">\n",
       "      <th></th>\n",
       "      <th>blue</th>\n",
       "      <th>green</th>\n",
       "      <th>red</th>\n",
       "      <th>red_edge</th>\n",
       "      <th>nir</th>\n",
       "      <th>wdrvi</th>\n",
       "      <th>dem</th>\n",
       "    </tr>\n",
       "  </thead>\n",
       "  <tbody>\n",
       "    <tr>\n",
       "      <th>0</th>\n",
       "      <td>0.353768</td>\n",
       "      <td>0.276989</td>\n",
       "      <td>0.247678</td>\n",
       "      <td>0.287523</td>\n",
       "      <td>0.576493</td>\n",
       "      <td>0.623282</td>\n",
       "      <td>325.735626</td>\n",
       "    </tr>\n",
       "    <tr>\n",
       "      <th>1</th>\n",
       "      <td>0.719441</td>\n",
       "      <td>0.703493</td>\n",
       "      <td>0.719135</td>\n",
       "      <td>0.690273</td>\n",
       "      <td>0.406862</td>\n",
       "      <td>0.216106</td>\n",
       "      <td>325.866691</td>\n",
       "    </tr>\n",
       "    <tr>\n",
       "      <th>2</th>\n",
       "      <td>0.723245</td>\n",
       "      <td>0.66395</td>\n",
       "      <td>0.691285</td>\n",
       "      <td>0.626439</td>\n",
       "      <td>0.370203</td>\n",
       "      <td>0.210945</td>\n",
       "      <td>325.922371</td>\n",
       "    </tr>\n",
       "    <tr>\n",
       "      <th>3</th>\n",
       "      <td>0.633375</td>\n",
       "      <td>0.594334</td>\n",
       "      <td>0.621236</td>\n",
       "      <td>0.557512</td>\n",
       "      <td>0.380968</td>\n",
       "      <td>0.257656</td>\n",
       "      <td>325.960499</td>\n",
       "    </tr>\n",
       "    <tr>\n",
       "      <th>4</th>\n",
       "      <td>0.55703</td>\n",
       "      <td>0.525665</td>\n",
       "      <td>0.547374</td>\n",
       "      <td>0.519457</td>\n",
       "      <td>0.427679</td>\n",
       "      <td>0.327785</td>\n",
       "      <td>326.034243</td>\n",
       "    </tr>\n",
       "    <tr>\n",
       "      <th>...</th>\n",
       "      <td>...</td>\n",
       "      <td>...</td>\n",
       "      <td>...</td>\n",
       "      <td>...</td>\n",
       "      <td>...</td>\n",
       "      <td>...</td>\n",
       "      <td>...</td>\n",
       "    </tr>\n",
       "    <tr>\n",
       "      <th>5841</th>\n",
       "      <td>0.279309</td>\n",
       "      <td>0.21893</td>\n",
       "      <td>0.199629</td>\n",
       "      <td>0.241569</td>\n",
       "      <td>0.53223</td>\n",
       "      <td>0.635691</td>\n",
       "      <td>326.154245</td>\n",
       "    </tr>\n",
       "    <tr>\n",
       "      <th>5842</th>\n",
       "      <td>0.303858</td>\n",
       "      <td>0.243738</td>\n",
       "      <td>0.210431</td>\n",
       "      <td>0.250279</td>\n",
       "      <td>0.503581</td>\n",
       "      <td>0.60845</td>\n",
       "      <td>326.149027</td>\n",
       "    </tr>\n",
       "    <tr>\n",
       "      <th>5843</th>\n",
       "      <td>0.31596</td>\n",
       "      <td>0.258504</td>\n",
       "      <td>0.223327</td>\n",
       "      <td>0.251821</td>\n",
       "      <td>0.482835</td>\n",
       "      <td>0.580783</td>\n",
       "      <td>326.102257</td>\n",
       "    </tr>\n",
       "    <tr>\n",
       "      <th>5844</th>\n",
       "      <td>0.31438</td>\n",
       "      <td>0.271801</td>\n",
       "      <td>0.230677</td>\n",
       "      <td>0.241337</td>\n",
       "      <td>0.456118</td>\n",
       "      <td>0.561345</td>\n",
       "      <td>326.049667</td>\n",
       "    </tr>\n",
       "    <tr>\n",
       "      <th>5845</th>\n",
       "      <td>0.346467</td>\n",
       "      <td>0.267485</td>\n",
       "      <td>0.240499</td>\n",
       "      <td>0.231533</td>\n",
       "      <td>0.414849</td>\n",
       "      <td>0.531095</td>\n",
       "      <td>326.028778</td>\n",
       "    </tr>\n",
       "  </tbody>\n",
       "</table>\n",
       "<p>5846 rows × 7 columns</p>\n",
       "</div>"
      ],
      "text/plain": [
       "          blue     green       red  red_edge       nir     wdrvi         dem\n",
       "0     0.353768  0.276989  0.247678  0.287523  0.576493  0.623282  325.735626\n",
       "1     0.719441  0.703493  0.719135  0.690273  0.406862  0.216106  325.866691\n",
       "2     0.723245   0.66395  0.691285  0.626439  0.370203  0.210945  325.922371\n",
       "3     0.633375  0.594334  0.621236  0.557512  0.380968  0.257656  325.960499\n",
       "4      0.55703  0.525665  0.547374  0.519457  0.427679  0.327785  326.034243\n",
       "...        ...       ...       ...       ...       ...       ...         ...\n",
       "5841  0.279309   0.21893  0.199629  0.241569   0.53223  0.635691  326.154245\n",
       "5842  0.303858  0.243738  0.210431  0.250279  0.503581   0.60845  326.149027\n",
       "5843   0.31596  0.258504  0.223327  0.251821  0.482835  0.580783  326.102257\n",
       "5844   0.31438  0.271801  0.230677  0.241337  0.456118  0.561345  326.049667\n",
       "5845  0.346467  0.267485  0.240499  0.231533  0.414849  0.531095  326.028778\n",
       "\n",
       "[5846 rows x 7 columns]"
      ]
     },
     "execution_count": 63,
     "metadata": {},
     "output_type": "execute_result"
    }
   ],
   "source": [
    "Df"
   ]
  },
  {
   "cell_type": "markdown",
   "metadata": {},
   "source": [
    "# Step 4: Feature scaling"
   ]
  },
  {
   "cell_type": "markdown",
   "metadata": {},
   "source": [
    "#### 4-1 MinMax scaler"
   ]
  },
  {
   "cell_type": "code",
   "execution_count": 64,
   "metadata": {
    "collapsed": false
   },
   "outputs": [
    {
     "data": {
      "text/html": [
       "<div>\n",
       "<table border=\"1\" class=\"dataframe\">\n",
       "  <thead>\n",
       "    <tr style=\"text-align: right;\">\n",
       "      <th></th>\n",
       "      <th>blue</th>\n",
       "      <th>green</th>\n",
       "      <th>red</th>\n",
       "      <th>red_edge</th>\n",
       "      <th>nir</th>\n",
       "      <th>wdrvi</th>\n",
       "      <th>dem</th>\n",
       "    </tr>\n",
       "  </thead>\n",
       "  <tbody>\n",
       "    <tr>\n",
       "      <th>5841</th>\n",
       "      <td>0.015135</td>\n",
       "      <td>0.056923</td>\n",
       "      <td>0.047383</td>\n",
       "      <td>0.090235</td>\n",
       "      <td>0.587074</td>\n",
       "      <td>0.861662</td>\n",
       "      <td>0.429880</td>\n",
       "    </tr>\n",
       "    <tr>\n",
       "      <th>5842</th>\n",
       "      <td>0.069597</td>\n",
       "      <td>0.105206</td>\n",
       "      <td>0.067191</td>\n",
       "      <td>0.107767</td>\n",
       "      <td>0.526591</td>\n",
       "      <td>0.806399</td>\n",
       "      <td>0.429271</td>\n",
       "    </tr>\n",
       "    <tr>\n",
       "      <th>5843</th>\n",
       "      <td>0.096444</td>\n",
       "      <td>0.133943</td>\n",
       "      <td>0.090837</td>\n",
       "      <td>0.110872</td>\n",
       "      <td>0.482793</td>\n",
       "      <td>0.750273</td>\n",
       "      <td>0.423808</td>\n",
       "    </tr>\n",
       "    <tr>\n",
       "      <th>5844</th>\n",
       "      <td>0.092939</td>\n",
       "      <td>0.159823</td>\n",
       "      <td>0.104316</td>\n",
       "      <td>0.089767</td>\n",
       "      <td>0.426388</td>\n",
       "      <td>0.710839</td>\n",
       "      <td>0.417664</td>\n",
       "    </tr>\n",
       "    <tr>\n",
       "      <th>5845</th>\n",
       "      <td>0.164123</td>\n",
       "      <td>0.151423</td>\n",
       "      <td>0.122326</td>\n",
       "      <td>0.070032</td>\n",
       "      <td>0.339263</td>\n",
       "      <td>0.649474</td>\n",
       "      <td>0.415224</td>\n",
       "    </tr>\n",
       "  </tbody>\n",
       "</table>\n",
       "</div>"
      ],
      "text/plain": [
       "          blue     green       red  red_edge       nir     wdrvi       dem\n",
       "5841  0.015135  0.056923  0.047383  0.090235  0.587074  0.861662  0.429880\n",
       "5842  0.069597  0.105206  0.067191  0.107767  0.526591  0.806399  0.429271\n",
       "5843  0.096444  0.133943  0.090837  0.110872  0.482793  0.750273  0.423808\n",
       "5844  0.092939  0.159823  0.104316  0.089767  0.426388  0.710839  0.417664\n",
       "5845  0.164123  0.151423  0.122326  0.070032  0.339263  0.649474  0.415224"
      ]
     },
     "execution_count": 64,
     "metadata": {},
     "output_type": "execute_result"
    }
   ],
   "source": [
    "from sklearn.preprocessing import MinMaxScaler\n",
    "\n",
    "scaler = MinMaxScaler()\n",
    "Df_scaled = pd.DataFrame(scaler.fit_transform(Df), columns=Df.columns)\n",
    "\n",
    "# columns are now scaled\n",
    "Df_scaled.tail()"
   ]
  },
  {
   "cell_type": "markdown",
   "metadata": {
    "collapsed": true
   },
   "source": [
    "# Step 5: Supervised learning\n",
    "1. use labeled datasets from previous unsupervised learning\n",
    "2. Read csv and combine them\n",
    "3. Train a model for 'om_h' field with all other features except cluster number and polygon number"
   ]
  },
  {
   "cell_type": "markdown",
   "metadata": {},
   "source": [
    "# 1. Read SQL database"
   ]
  },
  {
   "cell_type": "code",
   "execution_count": 65,
   "metadata": {
    "collapsed": true
   },
   "outputs": [],
   "source": [
    "from pandas import Series, DataFrame\n",
    "\n",
    "from sqlalchemy import create_engine\n",
    "from sqlalchemy_utils import database_exists, create_database\n",
    "import psycopg2\n",
    "\n",
    "#import matplotlib.pyplot as plt\n",
    "#%matplotlib inline"
   ]
  },
  {
   "cell_type": "code",
   "execution_count": 66,
   "metadata": {
    "collapsed": true
   },
   "outputs": [],
   "source": [
    "#In Python: Define a database name (we're using a dataset on births, so I call it \n",
    "# birth_db), and your username for your computer (CHANGE IT BELOW). \n",
    "\n",
    "dbname = 'Soil_training_v2'\n",
    "username = 'yourUserId'\n",
    "pswd = 'youPassword'"
   ]
  },
  {
   "cell_type": "code",
   "execution_count": 67,
   "metadata": {
    "collapsed": false
   },
   "outputs": [
    {
     "data": {
      "text/html": [
       "<div>\n",
       "<table border=\"1\" class=\"dataframe\">\n",
       "  <thead>\n",
       "    <tr style=\"text-align: right;\">\n",
       "      <th></th>\n",
       "      <th>blue</th>\n",
       "      <th>green</th>\n",
       "      <th>red</th>\n",
       "      <th>red_edge</th>\n",
       "      <th>nir</th>\n",
       "      <th>wdrvi</th>\n",
       "      <th>dem</th>\n",
       "      <th>om_r</th>\n",
       "    </tr>\n",
       "  </thead>\n",
       "  <tbody>\n",
       "    <tr>\n",
       "      <th>0</th>\n",
       "      <td>0.151855</td>\n",
       "      <td>0.167245</td>\n",
       "      <td>0.226578</td>\n",
       "      <td>0.271879</td>\n",
       "      <td>0.514683</td>\n",
       "      <td>0.538825</td>\n",
       "      <td>0.377833</td>\n",
       "      <td>1.5125</td>\n",
       "    </tr>\n",
       "    <tr>\n",
       "      <th>1</th>\n",
       "      <td>0.166684</td>\n",
       "      <td>0.180307</td>\n",
       "      <td>0.243449</td>\n",
       "      <td>0.284147</td>\n",
       "      <td>0.506571</td>\n",
       "      <td>0.523582</td>\n",
       "      <td>0.392599</td>\n",
       "      <td>1.5125</td>\n",
       "    </tr>\n",
       "    <tr>\n",
       "      <th>2</th>\n",
       "      <td>0.149601</td>\n",
       "      <td>0.170822</td>\n",
       "      <td>0.223311</td>\n",
       "      <td>0.271079</td>\n",
       "      <td>0.517813</td>\n",
       "      <td>0.543655</td>\n",
       "      <td>0.366551</td>\n",
       "      <td>1.5125</td>\n",
       "    </tr>\n",
       "    <tr>\n",
       "      <th>3</th>\n",
       "      <td>0.169947</td>\n",
       "      <td>0.179669</td>\n",
       "      <td>0.241515</td>\n",
       "      <td>0.285234</td>\n",
       "      <td>0.505458</td>\n",
       "      <td>0.524768</td>\n",
       "      <td>0.382166</td>\n",
       "      <td>1.5125</td>\n",
       "    </tr>\n",
       "    <tr>\n",
       "      <th>4</th>\n",
       "      <td>0.168861</td>\n",
       "      <td>0.187469</td>\n",
       "      <td>0.253410</td>\n",
       "      <td>0.292088</td>\n",
       "      <td>0.496027</td>\n",
       "      <td>0.511285</td>\n",
       "      <td>0.404782</td>\n",
       "      <td>1.5125</td>\n",
       "    </tr>\n",
       "  </tbody>\n",
       "</table>\n",
       "</div>"
      ],
      "text/plain": [
       "       blue     green       red  red_edge       nir     wdrvi       dem  \\\n",
       "0  0.151855  0.167245  0.226578  0.271879  0.514683  0.538825  0.377833   \n",
       "1  0.166684  0.180307  0.243449  0.284147  0.506571  0.523582  0.392599   \n",
       "2  0.149601  0.170822  0.223311  0.271079  0.517813  0.543655  0.366551   \n",
       "3  0.169947  0.179669  0.241515  0.285234  0.505458  0.524768  0.382166   \n",
       "4  0.168861  0.187469  0.253410  0.292088  0.496027  0.511285  0.404782   \n",
       "\n",
       "     om_r  \n",
       "0  1.5125  \n",
       "1  1.5125  \n",
       "2  1.5125  \n",
       "3  1.5125  \n",
       "4  1.5125  "
      ]
     },
     "execution_count": 67,
     "metadata": {},
     "output_type": "execute_result"
    }
   ],
   "source": [
    "# connect:\n",
    "con = None\n",
    "con = psycopg2.connect(database = dbname, user = username, host='localhost', password=pswd)\n",
    "\n",
    "# query:\n",
    "sql_query = \"\"\"\n",
    "SELECT blue, green, red, red_edge, nir, wdrvi, dem, om_r FROM soil_labeled;\n",
    "\"\"\"\n",
    "Df = pd.read_sql_query(sql_query,con)\n"
   ]
  },
  {
   "cell_type": "markdown",
   "metadata": {},
   "source": [
    "#### separate target and features"
   ]
  },
  {
   "cell_type": "code",
   "execution_count": 68,
   "metadata": {
    "collapsed": true
   },
   "outputs": [],
   "source": [
    "soil_target = Df.om_r\n",
    "soil_features = Df.iloc[:,0:-1]"
   ]
  },
  {
   "cell_type": "markdown",
   "metadata": {},
   "source": [
    "# 2: Split train/test dataset\n"
   ]
  },
  {
   "cell_type": "code",
   "execution_count": 69,
   "metadata": {
    "collapsed": false
   },
   "outputs": [
    {
     "name": "stdout",
     "output_type": "stream",
     "text": [
      "Successfully shuffled and split the data!\n"
     ]
    }
   ],
   "source": [
    "from sklearn.cross_validation import train_test_split\n",
    "def shuffle_split_data(X, y):\n",
    "    \"\"\" Shuffles and splits data into 70% training and 30% testing subsets,\n",
    "        then returns the training and testing subsets. \"\"\"\n",
    "    X_train, X_test, y_train, y_test = train_test_split(X, y, test_size=0.3, random_state=42)\n",
    "\n",
    "    # Return the training and testing data subsets\n",
    "    return X_train, y_train, X_test, y_test\n",
    "\n",
    "\n",
    "# Test shuffle_split_data\n",
    "try:\n",
    "    X_train, y_train, X_test, y_test = shuffle_split_data(soil_features, soil_target)\n",
    "    print \"Successfully shuffled and split the data!\"\n",
    "except:\n",
    "    print \"Something went wrong with shuffling and splitting the data.\""
   ]
  },
  {
   "cell_type": "markdown",
   "metadata": {},
   "source": [
    "# 3: Establish performance metric"
   ]
  },
  {
   "cell_type": "code",
   "execution_count": 70,
   "metadata": {
    "collapsed": false
   },
   "outputs": [
    {
     "name": "stdout",
     "output_type": "stream",
     "text": [
      "Successfully performed a metric calculation!\n"
     ]
    }
   ],
   "source": [
    "from sklearn.metrics import mean_squared_error\n",
    "\n",
    "def performance_metric(y_true, y_predict):\n",
    "    \"\"\" Calculates and returns the total error between true and predicted values\n",
    "        based on a performance metric chosen by the student. \"\"\"\n",
    "\n",
    "    error = mean_squared_error(y_true, y_predict)\n",
    "    \n",
    "    return error\n",
    "\n",
    "\n",
    "# Test performance_metric\n",
    "try:\n",
    "    total_error = performance_metric(y_train, y_train)\n",
    "    print \"Successfully performed a metric calculation!\"\n",
    "except:\n",
    "    print \"Something went wrong with performing a metric calculation.\""
   ]
  },
  {
   "cell_type": "markdown",
   "metadata": {},
   "source": [
    "# 4: Fit a regressor model"
   ]
  },
  {
   "cell_type": "code",
   "execution_count": 71,
   "metadata": {
    "collapsed": false
   },
   "outputs": [
    {
     "name": "stdout",
     "output_type": "stream",
     "text": [
      "Successfully fit a model!\n"
     ]
    }
   ],
   "source": [
    "from sklearn.metrics import make_scorer, mean_squared_error\n",
    "from sklearn.grid_search import GridSearchCV\n",
    "from sklearn.tree import DecisionTreeRegressor\n",
    "\n",
    "def fit_model(X, y):\n",
    "    \"\"\" Tunes a decision tree regressor model using GridSearchCV on the input data X \n",
    "        and target labels y and returns this optimal model. \"\"\"\n",
    "\n",
    "    # Create a decision tree regressor object\n",
    "    regressor = DecisionTreeRegressor()\n",
    "\n",
    "    # Set up the parameters we wish to tune\n",
    "    parameters = {'max_depth':(5,6,7,8,9,10,11,12)}\n",
    "    #parameters = {'max_depth':(8,9,10,11,12)}\n",
    "\n",
    "    # Make an appropriate scoring function\n",
    "    scoring_function = make_scorer(mean_squared_error, greater_is_better = False)\n",
    "\n",
    "\n",
    "    # Make the GridSearchCV object\n",
    "    \n",
    "    reg = GridSearchCV(regressor, param_grid=parameters, scoring=scoring_function)\n",
    "\n",
    "    # Fit the learner to the data to obtain the optimal model with tuned parameters\n",
    "    reg.fit(X, y)\n",
    "\n",
    "    # Return the optimal model\n",
    "    return reg.best_estimator_\n",
    "\n",
    "\n",
    "# Test fit_model on entire dataset\n",
    "try:\n",
    "    reg = fit_model(soil_features, soil_target)\n",
    "    print \"Successfully fit a model!\"\n",
    "except:\n",
    "    print \"Something went wrong with fitting a model.\""
   ]
  },
  {
   "cell_type": "markdown",
   "metadata": {},
   "source": [
    "# 5: Check model parameters"
   ]
  },
  {
   "cell_type": "code",
   "execution_count": 72,
   "metadata": {
    "collapsed": true
   },
   "outputs": [],
   "source": [
    "def learning_curves(X_train, y_train, X_test, y_test):\n",
    "    \"\"\" Calculates the performance of several models with varying sizes of training data.\n",
    "        The learning and testing error rates for each model are then plotted. \"\"\"\n",
    "    \n",
    "    print \"Creating learning curve graphs for max_depths of 1, 3, 6, and 10. . .\"\n",
    "    \n",
    "    # Create the figure window\n",
    "    fig = plt.figure(figsize=(10,8))\n",
    "\n",
    "    # We will vary the training set size so that we have 50 different sizes\n",
    "    sizes = np.rint(np.linspace(1, len(X_train), 50)).astype(int)\n",
    "    train_err = np.zeros(len(sizes))\n",
    "    test_err = np.zeros(len(sizes))\n",
    "\n",
    "    # Create four different models based on max_depth\n",
    "    for k, depth in enumerate([1,3,8,12]):\n",
    "        \n",
    "        for i, s in enumerate(sizes):\n",
    "            \n",
    "            # Setup a decision tree regressor so that it learns a tree with max_depth = depth\n",
    "            regressor = DecisionTreeRegressor(max_depth = depth)\n",
    "            \n",
    "            # Fit the learner to the training data\n",
    "            regressor.fit(X_train[:s], y_train[:s])\n",
    "\n",
    "            # Find the performance on the training set\n",
    "            train_err[i] = performance_metric(y_train[:s], regressor.predict(X_train[:s]))\n",
    "            \n",
    "            # Find the performance on the testing set\n",
    "            test_err[i] = performance_metric(y_test, regressor.predict(X_test))\n",
    "\n",
    "        # Subplot the learning curve graph\n",
    "        ax = fig.add_subplot(2, 2, k+1)\n",
    "        ax.plot(sizes, test_err, lw = 2, label = 'Testing Error')\n",
    "        ax.plot(sizes, train_err, lw = 2, label = 'Training Error')\n",
    "        ax.legend()\n",
    "        ax.set_title('max_depth = %s'%(depth))\n",
    "        ax.set_xlabel('Number of Data Points in Training Set')\n",
    "        ax.set_ylabel('Total Error')\n",
    "        ax.set_xlim([0, len(X_train)])\n",
    "    \n",
    "    # Visual aesthetics\n",
    "    fig.suptitle('Decision Tree Regressor Learning Performances', fontsize=18, y=1.03)\n",
    "    fig.tight_layout()\n",
    "    fig.show()"
   ]
  },
  {
   "cell_type": "code",
   "execution_count": 73,
   "metadata": {
    "collapsed": true
   },
   "outputs": [],
   "source": [
    "def model_complexity(X_train, y_train, X_test, y_test):\n",
    "    \"\"\" Calculates the performance of the model as model complexity increases.\n",
    "        The learning and testing errors rates are then plotted. \"\"\"\n",
    "    \n",
    "    print \"Creating a model complexity graph. . . \"\n",
    "\n",
    "    # We will vary the max_depth of a decision tree model from 1 to 14\n",
    "    max_depth = np.arange(1, 20)\n",
    "    train_err = np.zeros(len(max_depth))\n",
    "    test_err = np.zeros(len(max_depth))\n",
    "\n",
    "    for i, d in enumerate(max_depth):\n",
    "        # Setup a Decision Tree Regressor so that it learns a tree with depth d\n",
    "        regressor = DecisionTreeRegressor(max_depth = d)\n",
    "\n",
    "        # Fit the learner to the training data\n",
    "        regressor.fit(X_train, y_train)\n",
    "\n",
    "        # Find the performance on the training set\n",
    "        train_err[i] = performance_metric(y_train, regressor.predict(X_train))\n",
    "\n",
    "        # Find the performance on the testing set\n",
    "        test_err[i] = performance_metric(y_test, regressor.predict(X_test))\n",
    "\n",
    "    # Plot the model complexity graph\n",
    "    plt.figure(figsize=(7, 5))\n",
    "    plt.title('Decision Tree Regressor Complexity Performance')\n",
    "    plt.plot(max_depth, test_err, lw=2, label = 'Testing Error')\n",
    "    plt.plot(max_depth, train_err, lw=2, label = 'Training Error')\n",
    "    plt.legend()\n",
    "    plt.xlabel('Maximum Depth')\n",
    "    plt.ylabel('Total Error')\n",
    "    plt.show()"
   ]
  },
  {
   "cell_type": "markdown",
   "metadata": {},
   "source": [
    "#### Analyzing model performance"
   ]
  },
  {
   "cell_type": "code",
   "execution_count": 74,
   "metadata": {
    "collapsed": false
   },
   "outputs": [
    {
     "name": "stdout",
     "output_type": "stream",
     "text": [
      "Creating learning curve graphs for max_depths of 1, 3, 6, and 10. . .\n"
     ]
    },
    {
     "name": "stderr",
     "output_type": "stream",
     "text": [
      "/Users/seungjinbaek/anaconda/lib/python2.7/site-packages/matplotlib/figure.py:397: UserWarning: matplotlib is currently using a non-GUI backend, so cannot show the figure\n",
      "  \"matplotlib is currently using a non-GUI backend, \"\n"
     ]
    },
    {
     "data": {
      "image/png": "[encoded data removed]",
      "text/plain": [
       "<matplotlib.figure.Figure at 0x118fb8390>"
      ]
     },
     "metadata": {},
     "output_type": "display_data"
    }
   ],
   "source": [
    "learning_curves(X_train, y_train, X_test, y_test)"
   ]
  },
  {
   "cell_type": "code",
   "execution_count": 75,
   "metadata": {
    "collapsed": false
   },
   "outputs": [
    {
     "name": "stdout",
     "output_type": "stream",
     "text": [
      "Creating a model complexity graph. . . \n"
     ]
    },
    {
     "data": {
      "image/png": "[encoded data removed]",
      "text/plain": [
       "<matplotlib.figure.Figure at 0x120691790>"
      ]
     },
     "metadata": {},
     "output_type": "display_data"
    }
   ],
   "source": [
    "model_complexity(X_train, y_train, X_test, y_test)"
   ]
  },
  {
   "cell_type": "code",
   "execution_count": 76,
   "metadata": {
    "collapsed": false
   },
   "outputs": [
    {
     "name": "stdout",
     "output_type": "stream",
     "text": [
      "Final model has an optimal max_depth parameter of 9\n"
     ]
    }
   ],
   "source": [
    "print \"Final model has an optimal max_depth parameter of\", reg.get_params()['max_depth']"
   ]
  },
  {
   "cell_type": "markdown",
   "metadata": {},
   "source": [
    "# 6: Predict the soil organic matter on a test site"
   ]
  },
  {
   "cell_type": "markdown",
   "metadata": {},
   "source": [
    "#### Read unknown feature dataset\n"
   ]
  },
  {
   "cell_type": "code",
   "execution_count": 78,
   "metadata": {
    "collapsed": false
   },
   "outputs": [],
   "source": [
    "soil_pred = reg.predict(Df_scaled)"
   ]
  },
  {
   "cell_type": "code",
   "execution_count": 79,
   "metadata": {
    "collapsed": true
   },
   "outputs": [],
   "source": [
    "with open(os.path.expanduser('soil_pred.png'),'w') as f:\n",
    "    f.write(r.to_png(r.colorscale(soil_pred.reshape(rowN,colN))))"
   ]
  },
  {
   "cell_type": "markdown",
   "metadata": {},
   "source": [
    "# 7: Plotting final results: NEW SOIL MAP"
   ]
  },
  {
   "cell_type": "code",
   "execution_count": 80,
   "metadata": {
    "collapsed": false
   },
   "outputs": [
    {
     "data": {
      "image/png": "[encoded data removed]",
      "text/plain": [
       "<matplotlib.figure.Figure at 0x118979f90>"
      ]
     },
     "metadata": {},
     "output_type": "display_data"
    }
   ],
   "source": [
    "x2 = np.linspace(0, colN, colN+1)\n",
    "y2 = np.linspace(0, rowN, rowN+1)\n",
    "\n",
    "#f = interp2d(x, y, Z, kind='cubic')\n",
    "#Z2 = f(x2, y2)\n",
    "X2, Y2 = np.meshgrid(x2, y2)\n",
    "\n",
    "fig, ax = plt.subplots(nrows=1, ncols=1)\n",
    "\n",
    "slopefig = ax.pcolormesh(X2, Y2, np.flipud(soil_pred.reshape(rowN,colN)),cmap='copper',vmin=cvalue.vmin,vmax=cvalue.vmax)\n",
    "#slopefig = ax.pcolormesh(X2, Y2, np.flipud(soil_pred.reshape(rowN,colN)),cmap='copper')\n",
    "\n",
    "#X2, Y2 = np.meshgrid(x2, y2)\n",
    "ax.set_aspect('equal')\n",
    "ax.autoscale(tight=True)\n",
    "plt.colorbar(slopefig)\n",
    "plt.show()"
   ]
  }
 ],
 "metadata": {
  "kernelspec": {
   "display_name": "Python 2",
   "language": "python",
   "name": "python2"
  },
  "language_info": {
   "codemirror_mode": {
    "name": "ipython",
    "version": 2
   },
   "file_extension": ".py",
   "mimetype": "text/x-python",
   "name": "python",
   "nbconvert_exporter": "python",
   "pygments_lexer": "ipython2",
   "version": "2.7.11"
  }
 },
 "nbformat": 4,
 "nbformat_minor": 2
}
